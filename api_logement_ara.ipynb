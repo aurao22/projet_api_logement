{
 "cells": [
  {
   "cell_type": "markdown",
   "id": "4694e48a",
   "metadata": {},
   "source": [
    "<div style=\"display: flex; background-color: RGB(255,114,0);\" >\n",
    "\n",
    "# PROJET - Logement </h1>\n",
    "</div>"
   ]
  },
  {
   "cell_type": "markdown",
   "metadata": {},
   "source": [
    "> Construire un modèle de régression à l'aide de l'API/ Mlflow\n",
    "\n",
    "Pour mettre en œuvre des réseaux de neurones en utilisant Keras API. Il s'agit d'une API de haut niveau magnifiquement conçue et simple pour la construction, former, évaluer et faire fonctionner des réseaux de neurones.\n",
    "\n",
    "Pour s'initier à l'API,  vous  allez entraîner un modèle de régression afin de prédire le prix médian des maisons de la Californie. Ensuite, vous déploierez ce modèle à travers une API REST en utilisant la librairie  MLflow."
   ]
  },
  {
   "cell_type": "markdown",
   "metadata": {},
   "source": [
    "<div style=\"display: flex; background-color: blue;\" >\n",
    "\n",
    "# 1.Contexte du projet\n",
    "</div>\n",
    "\n",
    "C’est un projet sur le logement en Californie dans le but de prédire le prix médian des maisons de la Californie. Pour plus de simplicité, vous allez utiliser la fonction fetch_california_housing() de Scikit-Learn pour charger les données. Cet ensemble de données est plus simple que celui que nous avons utilisé auparavant, puisqu'il ne contient que des caractéristiques numériques (il n'y a pas la variable ocean_proximity), et il y a pas des valeurs manquantes . (Le choix du modèle n'est pas très important pour ce projet, mais essayez d’aborder le sujet à l'aide d’un modèle ensembliste)\n",
    "\n",
    "- Entraîner un modèle de régression afin de prédire le prix médian des maisons de la Californie.\n",
    "- Ensuite, appliquer ce modèle à travers une API REST en utilisant la librairie Mlflow.\n",
    "- Finalement, tester vos prédictions avec une interface Streamlit."
   ]
  },
  {
   "cell_type": "markdown",
   "metadata": {},
   "source": [
    "## Ressources :\n",
    "- https://openclassrooms.com/fr/courses/4525361-realisez-un-dashboard-avec-vos-donnees/5774786-apprehendez-le-fonctionnement-dun-serveur-web\n",
    "- https://openclassrooms.com/fr/courses/6573181-adoptez-les-api-rest-pour-vos-projets-web\n",
    "- https://practicalprogramming.fr/api-rest/\n",
    "- https://www.mlflow.org/docs/latest/index.html\n",
    "- https://docs.microsoft.com/fr-fr/azure/databricks/applications/mlflow/\n",
    "- https://streamlit.io/\n",
    "- https://docs.microsoft.com/fr-fr/azure/databricks/_static/notebooks/mlflow/mlflow-quick-start-deployment-azure.html"
   ]
  },
  {
   "cell_type": "markdown",
   "id": "f40e3a45",
   "metadata": {},
   "source": [
    "<div style=\"display: flex; background-color: green;\" >\n",
    "\n",
    "## 1.2. Util\n",
    "</div>\n",
    "\n",
    "Créer une API Python :\n",
    "- ``Django`` : Django est basé sur Python. Il est utilisé par de grands noms comme Google, YouTube et Instagram. Le framework REST de Django est facile à utiliser lorsque vous construisez vos API REST avec Django. Il demande un effort d’apprentissage aux débutants, mais possède d’excellentes fonctionnalités intégrées, comme l’authentification et la messagerie. - https://openclassrooms.com/fr/courses/7192416-mettez-en-place-une-api-avec-django-rest-framework\n",
    "- ``Flask`` : Flask utilise Python pour le web et le développement des API REST. C’est un framework minimaliste, facile d’apprentissage et d’utilisation. Flask comprend moins de fonctionnalités intégrées que Django, mais permet aux développeurs d’avoir davantage de choix dans les outils additionnels qu’ils utilisent."
   ]
  },
  {
   "cell_type": "markdown",
   "id": "09c3528d",
   "metadata": {},
   "source": [
    "<div style=\"display: flex; background-color: blue;\" >\n",
    "\n",
    "# 2.Chargement des données\n",
    "</div>"
   ]
  },
  {
   "cell_type": "code",
   "execution_count": null,
   "metadata": {},
   "outputs": [],
   "source": []
  },
  {
   "cell_type": "markdown",
   "id": "f40e3a45",
   "metadata": {},
   "source": [
    "<div style=\"display: flex; background-color: green;\" >\n",
    "\n",
    "## 2.1. Titre 2\n",
    "</div>\n"
   ]
  },
  {
   "cell_type": "markdown",
   "id": "dc0c802f",
   "metadata": {},
   "source": [
    "<div style=\"display: flex; background-color: indigo;\" >\n",
    "\n",
    "#### Titre 3\n",
    "</div>"
   ]
  },
  {
   "cell_type": "markdown",
   "metadata": {},
   "source": [
    "<div style=\"display: flex; background-color: deeppink;\" >\n",
    "\n",
    "##### Titre4\n",
    "</div>"
   ]
  },
  {
   "cell_type": "markdown",
   "id": "09c3528d",
   "metadata": {},
   "source": [
    "<div style=\"display: flex; background-color: blue;\" >\n",
    "\n",
    "# 2.Titre 1\n",
    "</div>"
   ]
  },
  {
   "cell_type": "markdown",
   "id": "f40e3a45",
   "metadata": {},
   "source": [
    "<div style=\"display: flex; background-color: green;\" >\n",
    "\n",
    "## 2.1. Titre 2\n",
    "</div>\n"
   ]
  },
  {
   "cell_type": "markdown",
   "id": "dc0c802f",
   "metadata": {},
   "source": [
    "<div style=\"display: flex; background-color: indigo;\" >\n",
    "\n",
    "#### Titre 3\n",
    "</div>"
   ]
  },
  {
   "cell_type": "markdown",
   "metadata": {},
   "source": [
    "<div style=\"display: flex; background-color: deeppink;\" >\n",
    "\n",
    "##### Titre4\n",
    "</div>"
   ]
  },
  {
   "cell_type": "markdown",
   "metadata": {},
   "source": [
    "<div style=\"display: flex; background-color: coral;\" >\n",
    "\n",
    "##### Titre 5\n",
    "</div>"
   ]
  },
  {
   "cell_type": "markdown",
   "id": "09c3528d",
   "metadata": {},
   "source": [
    "<div style=\"display: flex; background-color: blue;\" >\n",
    "\n",
    "# ANNEXE\n",
    "</div>"
   ]
  }
 ],
 "metadata": {
  "interpreter": {
   "hash": "ac59ebe37160ed0dfa835113d9b8498d9f09ceb179beaac4002f036b9467c963"
  },
  "kernelspec": {
   "display_name": "Python 3.9.10 64-bit",
   "language": "python",
   "name": "python3"
  },
  "language_info": {
   "name": "python",
   "version": "3.9.10"
  },
  "orig_nbformat": 4
 },
 "nbformat": 4,
 "nbformat_minor": 2
}
